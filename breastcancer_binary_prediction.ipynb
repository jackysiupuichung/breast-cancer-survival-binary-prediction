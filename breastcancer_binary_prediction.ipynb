{
  "nbformat": 4,
  "nbformat_minor": 0,
  "metadata": {
    "colab": {
      "provenance": [],
      "collapsed_sections": [],
      "authorship_tag": "ABX9TyMM/Prmu+3qLbb9I7qzjxa6",
      "include_colab_link": true
    },
    "kernelspec": {
      "name": "python3",
      "display_name": "Python 3"
    },
    "language_info": {
      "name": "python"
    }
  },
  "cells": [
    {
      "cell_type": "markdown",
      "metadata": {
        "id": "view-in-github",
        "colab_type": "text"
      },
      "source": [
        "<a href=\"https://colab.research.google.com/github/jackysiupuichung/breast-cancer-survival-binary-prediction/blob/main/breastcancer_binary_prediction.ipynb\" target=\"_parent\"><img src=\"https://colab.research.google.com/assets/colab-badge.svg\" alt=\"Open In Colab\"/></a>"
      ]
    },
    {
      "cell_type": "code",
      "execution_count": 277,
      "metadata": {
        "id": "AO0CDncXLoN5"
      },
      "outputs": [],
      "source": [
        "import pandas as pd\n",
        "import zipfile\n",
        "import pandas as pd\n",
        "import numpy as np\n",
        "import matplotlib.pyplot as plt\n",
        "import sklearn\n",
        "import random\n",
        "from sklearn.model_selection import train_test_split\n",
        "from sklearn.metrics import roc_curve\n",
        "from sklearn.metrics import roc_auc_score"
      ]
    },
    {
      "cell_type": "code",
      "source": [
        "!pip install missingpy"
      ],
      "metadata": {
        "colab": {
          "base_uri": "https://localhost:8080/"
        },
        "id": "enoZIpNDZHzU",
        "outputId": "cba8c76c-ced6-481b-c555-9dec3db17b4b"
      },
      "execution_count": 278,
      "outputs": [
        {
          "output_type": "stream",
          "name": "stdout",
          "text": [
            "Looking in indexes: https://pypi.org/simple, https://us-python.pkg.dev/colab-wheels/public/simple/\n",
            "Requirement already satisfied: missingpy in /usr/local/lib/python3.7/dist-packages (0.2.0)\n"
          ]
        }
      ]
    },
    {
      "cell_type": "code",
      "source": [
        "random.seed(123)"
      ],
      "metadata": {
        "id": "ibYwEX1mNQRQ"
      },
      "execution_count": 279,
      "outputs": []
    },
    {
      "cell_type": "code",
      "source": [
        "zf = zipfile.ZipFile('breastcancer.zip') \n",
        "df = pd.read_csv(zf.open('METABRIC_RNA_Mutation.csv'))"
      ],
      "metadata": {
        "colab": {
          "base_uri": "https://localhost:8080/"
        },
        "id": "Nrj2SsV6MEN0",
        "outputId": "32192aba-c2d1-4755-e12a-9b5188104bbe"
      },
      "execution_count": 280,
      "outputs": [
        {
          "output_type": "stream",
          "name": "stderr",
          "text": [
            "/usr/local/lib/python3.7/dist-packages/IPython/core/interactiveshell.py:3326: DtypeWarning: Columns (678,688,690,692) have mixed types.Specify dtype option on import or set low_memory=False.\n",
            "  exec(code_obj, self.user_global_ns, self.user_ns)\n"
          ]
        }
      ]
    },
    {
      "cell_type": "markdown",
      "source": [
        "replace '' to NA"
      ],
      "metadata": {
        "id": "Fgrxp8XUUlL4"
      }
    },
    {
      "cell_type": "code",
      "source": [
        "df.replace('', np.NaN)"
      ],
      "metadata": {
        "colab": {
          "base_uri": "https://localhost:8080/",
          "height": 679
        },
        "id": "GELUqfovUkXN",
        "outputId": "c30347e6-ab0c-4111-8387-e81624296be2"
      },
      "execution_count": 281,
      "outputs": [
        {
          "output_type": "execute_result",
          "data": {
            "text/plain": [
              "      patient_id  age_at_diagnosis type_of_breast_surgery    cancer_type  \\\n",
              "0              0             75.65             MASTECTOMY  Breast Cancer   \n",
              "1              2             43.19      BREAST CONSERVING  Breast Cancer   \n",
              "2              5             48.87             MASTECTOMY  Breast Cancer   \n",
              "3              6             47.68             MASTECTOMY  Breast Cancer   \n",
              "4              8             76.97             MASTECTOMY  Breast Cancer   \n",
              "...          ...               ...                    ...            ...   \n",
              "1899        7295             43.10      BREAST CONSERVING  Breast Cancer   \n",
              "1900        7296             42.88             MASTECTOMY  Breast Cancer   \n",
              "1901        7297             62.90             MASTECTOMY  Breast Cancer   \n",
              "1902        7298             61.16             MASTECTOMY  Breast Cancer   \n",
              "1903        7299             60.02      BREAST CONSERVING  Breast Cancer   \n",
              "\n",
              "                           cancer_type_detailed cellularity  chemotherapy  \\\n",
              "0              Breast Invasive Ductal Carcinoma         NaN             0   \n",
              "1              Breast Invasive Ductal Carcinoma        High             0   \n",
              "2              Breast Invasive Ductal Carcinoma        High             1   \n",
              "3     Breast Mixed Ductal and Lobular Carcinoma    Moderate             1   \n",
              "4     Breast Mixed Ductal and Lobular Carcinoma        High             1   \n",
              "...                                         ...         ...           ...   \n",
              "1899          Breast Invasive Lobular Carcinoma        High             0   \n",
              "1900           Breast Invasive Ductal Carcinoma        High             0   \n",
              "1901           Breast Invasive Ductal Carcinoma        High             0   \n",
              "1902           Breast Invasive Ductal Carcinoma    Moderate             0   \n",
              "1903           Breast Invasive Ductal Carcinoma        High             0   \n",
              "\n",
              "     pam50_+_claudin-low_subtype  cohort er_status_measured_by_ihc  ...  \\\n",
              "0                    claudin-low     1.0                   Positve  ...   \n",
              "1                           LumA     1.0                   Positve  ...   \n",
              "2                           LumB     1.0                   Positve  ...   \n",
              "3                           LumB     1.0                   Positve  ...   \n",
              "4                           LumB     1.0                   Positve  ...   \n",
              "...                          ...     ...                       ...  ...   \n",
              "1899                        LumA     4.0                   Positve  ...   \n",
              "1900                        LumB     4.0                   Positve  ...   \n",
              "1901                        LumB     4.0                   Positve  ...   \n",
              "1902                        LumB     4.0                   Positve  ...   \n",
              "1903                        LumB     4.0                   Positve  ...   \n",
              "\n",
              "     mtap_mut  ppp2cb_mut smarcd1_mut nras_mut ndfip1_mut  hras_mut prps2_mut  \\\n",
              "0           0           0           0        0          0         0         0   \n",
              "1           0           0           0        0          0         0         0   \n",
              "2           0           0           0        0          0         0         0   \n",
              "3           0           0           0        0          0         0         0   \n",
              "4           0           0           0        0          0         0         0   \n",
              "...       ...         ...         ...      ...        ...       ...       ...   \n",
              "1899        0           0           0        0          0         0         0   \n",
              "1900        0           0           0        0          0         0         0   \n",
              "1901        0           0           0        0          0         0         0   \n",
              "1902        0           0           0        0          0         0         0   \n",
              "1903        0           0           0        0          0         0         0   \n",
              "\n",
              "     smarcb1_mut stmn2_mut  siah1_mut  \n",
              "0              0         0          0  \n",
              "1              0         0          0  \n",
              "2              0         0          0  \n",
              "3              0         0          0  \n",
              "4              0         0          0  \n",
              "...          ...       ...        ...  \n",
              "1899           0         0          0  \n",
              "1900           0         0          0  \n",
              "1901           0         0          0  \n",
              "1902           0         0          0  \n",
              "1903           0         0          0  \n",
              "\n",
              "[1904 rows x 693 columns]"
            ],
            "text/html": [
              "\n",
              "  <div id=\"df-ed550c3c-6cf4-4039-adc7-efc3504913ff\">\n",
              "    <div class=\"colab-df-container\">\n",
              "      <div>\n",
              "<style scoped>\n",
              "    .dataframe tbody tr th:only-of-type {\n",
              "        vertical-align: middle;\n",
              "    }\n",
              "\n",
              "    .dataframe tbody tr th {\n",
              "        vertical-align: top;\n",
              "    }\n",
              "\n",
              "    .dataframe thead th {\n",
              "        text-align: right;\n",
              "    }\n",
              "</style>\n",
              "<table border=\"1\" class=\"dataframe\">\n",
              "  <thead>\n",
              "    <tr style=\"text-align: right;\">\n",
              "      <th></th>\n",
              "      <th>patient_id</th>\n",
              "      <th>age_at_diagnosis</th>\n",
              "      <th>type_of_breast_surgery</th>\n",
              "      <th>cancer_type</th>\n",
              "      <th>cancer_type_detailed</th>\n",
              "      <th>cellularity</th>\n",
              "      <th>chemotherapy</th>\n",
              "      <th>pam50_+_claudin-low_subtype</th>\n",
              "      <th>cohort</th>\n",
              "      <th>er_status_measured_by_ihc</th>\n",
              "      <th>...</th>\n",
              "      <th>mtap_mut</th>\n",
              "      <th>ppp2cb_mut</th>\n",
              "      <th>smarcd1_mut</th>\n",
              "      <th>nras_mut</th>\n",
              "      <th>ndfip1_mut</th>\n",
              "      <th>hras_mut</th>\n",
              "      <th>prps2_mut</th>\n",
              "      <th>smarcb1_mut</th>\n",
              "      <th>stmn2_mut</th>\n",
              "      <th>siah1_mut</th>\n",
              "    </tr>\n",
              "  </thead>\n",
              "  <tbody>\n",
              "    <tr>\n",
              "      <th>0</th>\n",
              "      <td>0</td>\n",
              "      <td>75.65</td>\n",
              "      <td>MASTECTOMY</td>\n",
              "      <td>Breast Cancer</td>\n",
              "      <td>Breast Invasive Ductal Carcinoma</td>\n",
              "      <td>NaN</td>\n",
              "      <td>0</td>\n",
              "      <td>claudin-low</td>\n",
              "      <td>1.0</td>\n",
              "      <td>Positve</td>\n",
              "      <td>...</td>\n",
              "      <td>0</td>\n",
              "      <td>0</td>\n",
              "      <td>0</td>\n",
              "      <td>0</td>\n",
              "      <td>0</td>\n",
              "      <td>0</td>\n",
              "      <td>0</td>\n",
              "      <td>0</td>\n",
              "      <td>0</td>\n",
              "      <td>0</td>\n",
              "    </tr>\n",
              "    <tr>\n",
              "      <th>1</th>\n",
              "      <td>2</td>\n",
              "      <td>43.19</td>\n",
              "      <td>BREAST CONSERVING</td>\n",
              "      <td>Breast Cancer</td>\n",
              "      <td>Breast Invasive Ductal Carcinoma</td>\n",
              "      <td>High</td>\n",
              "      <td>0</td>\n",
              "      <td>LumA</td>\n",
              "      <td>1.0</td>\n",
              "      <td>Positve</td>\n",
              "      <td>...</td>\n",
              "      <td>0</td>\n",
              "      <td>0</td>\n",
              "      <td>0</td>\n",
              "      <td>0</td>\n",
              "      <td>0</td>\n",
              "      <td>0</td>\n",
              "      <td>0</td>\n",
              "      <td>0</td>\n",
              "      <td>0</td>\n",
              "      <td>0</td>\n",
              "    </tr>\n",
              "    <tr>\n",
              "      <th>2</th>\n",
              "      <td>5</td>\n",
              "      <td>48.87</td>\n",
              "      <td>MASTECTOMY</td>\n",
              "      <td>Breast Cancer</td>\n",
              "      <td>Breast Invasive Ductal Carcinoma</td>\n",
              "      <td>High</td>\n",
              "      <td>1</td>\n",
              "      <td>LumB</td>\n",
              "      <td>1.0</td>\n",
              "      <td>Positve</td>\n",
              "      <td>...</td>\n",
              "      <td>0</td>\n",
              "      <td>0</td>\n",
              "      <td>0</td>\n",
              "      <td>0</td>\n",
              "      <td>0</td>\n",
              "      <td>0</td>\n",
              "      <td>0</td>\n",
              "      <td>0</td>\n",
              "      <td>0</td>\n",
              "      <td>0</td>\n",
              "    </tr>\n",
              "    <tr>\n",
              "      <th>3</th>\n",
              "      <td>6</td>\n",
              "      <td>47.68</td>\n",
              "      <td>MASTECTOMY</td>\n",
              "      <td>Breast Cancer</td>\n",
              "      <td>Breast Mixed Ductal and Lobular Carcinoma</td>\n",
              "      <td>Moderate</td>\n",
              "      <td>1</td>\n",
              "      <td>LumB</td>\n",
              "      <td>1.0</td>\n",
              "      <td>Positve</td>\n",
              "      <td>...</td>\n",
              "      <td>0</td>\n",
              "      <td>0</td>\n",
              "      <td>0</td>\n",
              "      <td>0</td>\n",
              "      <td>0</td>\n",
              "      <td>0</td>\n",
              "      <td>0</td>\n",
              "      <td>0</td>\n",
              "      <td>0</td>\n",
              "      <td>0</td>\n",
              "    </tr>\n",
              "    <tr>\n",
              "      <th>4</th>\n",
              "      <td>8</td>\n",
              "      <td>76.97</td>\n",
              "      <td>MASTECTOMY</td>\n",
              "      <td>Breast Cancer</td>\n",
              "      <td>Breast Mixed Ductal and Lobular Carcinoma</td>\n",
              "      <td>High</td>\n",
              "      <td>1</td>\n",
              "      <td>LumB</td>\n",
              "      <td>1.0</td>\n",
              "      <td>Positve</td>\n",
              "      <td>...</td>\n",
              "      <td>0</td>\n",
              "      <td>0</td>\n",
              "      <td>0</td>\n",
              "      <td>0</td>\n",
              "      <td>0</td>\n",
              "      <td>0</td>\n",
              "      <td>0</td>\n",
              "      <td>0</td>\n",
              "      <td>0</td>\n",
              "      <td>0</td>\n",
              "    </tr>\n",
              "    <tr>\n",
              "      <th>...</th>\n",
              "      <td>...</td>\n",
              "      <td>...</td>\n",
              "      <td>...</td>\n",
              "      <td>...</td>\n",
              "      <td>...</td>\n",
              "      <td>...</td>\n",
              "      <td>...</td>\n",
              "      <td>...</td>\n",
              "      <td>...</td>\n",
              "      <td>...</td>\n",
              "      <td>...</td>\n",
              "      <td>...</td>\n",
              "      <td>...</td>\n",
              "      <td>...</td>\n",
              "      <td>...</td>\n",
              "      <td>...</td>\n",
              "      <td>...</td>\n",
              "      <td>...</td>\n",
              "      <td>...</td>\n",
              "      <td>...</td>\n",
              "      <td>...</td>\n",
              "    </tr>\n",
              "    <tr>\n",
              "      <th>1899</th>\n",
              "      <td>7295</td>\n",
              "      <td>43.10</td>\n",
              "      <td>BREAST CONSERVING</td>\n",
              "      <td>Breast Cancer</td>\n",
              "      <td>Breast Invasive Lobular Carcinoma</td>\n",
              "      <td>High</td>\n",
              "      <td>0</td>\n",
              "      <td>LumA</td>\n",
              "      <td>4.0</td>\n",
              "      <td>Positve</td>\n",
              "      <td>...</td>\n",
              "      <td>0</td>\n",
              "      <td>0</td>\n",
              "      <td>0</td>\n",
              "      <td>0</td>\n",
              "      <td>0</td>\n",
              "      <td>0</td>\n",
              "      <td>0</td>\n",
              "      <td>0</td>\n",
              "      <td>0</td>\n",
              "      <td>0</td>\n",
              "    </tr>\n",
              "    <tr>\n",
              "      <th>1900</th>\n",
              "      <td>7296</td>\n",
              "      <td>42.88</td>\n",
              "      <td>MASTECTOMY</td>\n",
              "      <td>Breast Cancer</td>\n",
              "      <td>Breast Invasive Ductal Carcinoma</td>\n",
              "      <td>High</td>\n",
              "      <td>0</td>\n",
              "      <td>LumB</td>\n",
              "      <td>4.0</td>\n",
              "      <td>Positve</td>\n",
              "      <td>...</td>\n",
              "      <td>0</td>\n",
              "      <td>0</td>\n",
              "      <td>0</td>\n",
              "      <td>0</td>\n",
              "      <td>0</td>\n",
              "      <td>0</td>\n",
              "      <td>0</td>\n",
              "      <td>0</td>\n",
              "      <td>0</td>\n",
              "      <td>0</td>\n",
              "    </tr>\n",
              "    <tr>\n",
              "      <th>1901</th>\n",
              "      <td>7297</td>\n",
              "      <td>62.90</td>\n",
              "      <td>MASTECTOMY</td>\n",
              "      <td>Breast Cancer</td>\n",
              "      <td>Breast Invasive Ductal Carcinoma</td>\n",
              "      <td>High</td>\n",
              "      <td>0</td>\n",
              "      <td>LumB</td>\n",
              "      <td>4.0</td>\n",
              "      <td>Positve</td>\n",
              "      <td>...</td>\n",
              "      <td>0</td>\n",
              "      <td>0</td>\n",
              "      <td>0</td>\n",
              "      <td>0</td>\n",
              "      <td>0</td>\n",
              "      <td>0</td>\n",
              "      <td>0</td>\n",
              "      <td>0</td>\n",
              "      <td>0</td>\n",
              "      <td>0</td>\n",
              "    </tr>\n",
              "    <tr>\n",
              "      <th>1902</th>\n",
              "      <td>7298</td>\n",
              "      <td>61.16</td>\n",
              "      <td>MASTECTOMY</td>\n",
              "      <td>Breast Cancer</td>\n",
              "      <td>Breast Invasive Ductal Carcinoma</td>\n",
              "      <td>Moderate</td>\n",
              "      <td>0</td>\n",
              "      <td>LumB</td>\n",
              "      <td>4.0</td>\n",
              "      <td>Positve</td>\n",
              "      <td>...</td>\n",
              "      <td>0</td>\n",
              "      <td>0</td>\n",
              "      <td>0</td>\n",
              "      <td>0</td>\n",
              "      <td>0</td>\n",
              "      <td>0</td>\n",
              "      <td>0</td>\n",
              "      <td>0</td>\n",
              "      <td>0</td>\n",
              "      <td>0</td>\n",
              "    </tr>\n",
              "    <tr>\n",
              "      <th>1903</th>\n",
              "      <td>7299</td>\n",
              "      <td>60.02</td>\n",
              "      <td>BREAST CONSERVING</td>\n",
              "      <td>Breast Cancer</td>\n",
              "      <td>Breast Invasive Ductal Carcinoma</td>\n",
              "      <td>High</td>\n",
              "      <td>0</td>\n",
              "      <td>LumB</td>\n",
              "      <td>4.0</td>\n",
              "      <td>Positve</td>\n",
              "      <td>...</td>\n",
              "      <td>0</td>\n",
              "      <td>0</td>\n",
              "      <td>0</td>\n",
              "      <td>0</td>\n",
              "      <td>0</td>\n",
              "      <td>0</td>\n",
              "      <td>0</td>\n",
              "      <td>0</td>\n",
              "      <td>0</td>\n",
              "      <td>0</td>\n",
              "    </tr>\n",
              "  </tbody>\n",
              "</table>\n",
              "<p>1904 rows × 693 columns</p>\n",
              "</div>\n",
              "      <button class=\"colab-df-convert\" onclick=\"convertToInteractive('df-ed550c3c-6cf4-4039-adc7-efc3504913ff')\"\n",
              "              title=\"Convert this dataframe to an interactive table.\"\n",
              "              style=\"display:none;\">\n",
              "        \n",
              "  <svg xmlns=\"http://www.w3.org/2000/svg\" height=\"24px\"viewBox=\"0 0 24 24\"\n",
              "       width=\"24px\">\n",
              "    <path d=\"M0 0h24v24H0V0z\" fill=\"none\"/>\n",
              "    <path d=\"M18.56 5.44l.94 2.06.94-2.06 2.06-.94-2.06-.94-.94-2.06-.94 2.06-2.06.94zm-11 1L8.5 8.5l.94-2.06 2.06-.94-2.06-.94L8.5 2.5l-.94 2.06-2.06.94zm10 10l.94 2.06.94-2.06 2.06-.94-2.06-.94-.94-2.06-.94 2.06-2.06.94z\"/><path d=\"M17.41 7.96l-1.37-1.37c-.4-.4-.92-.59-1.43-.59-.52 0-1.04.2-1.43.59L10.3 9.45l-7.72 7.72c-.78.78-.78 2.05 0 2.83L4 21.41c.39.39.9.59 1.41.59.51 0 1.02-.2 1.41-.59l7.78-7.78 2.81-2.81c.8-.78.8-2.07 0-2.86zM5.41 20L4 18.59l7.72-7.72 1.47 1.35L5.41 20z\"/>\n",
              "  </svg>\n",
              "      </button>\n",
              "      \n",
              "  <style>\n",
              "    .colab-df-container {\n",
              "      display:flex;\n",
              "      flex-wrap:wrap;\n",
              "      gap: 12px;\n",
              "    }\n",
              "\n",
              "    .colab-df-convert {\n",
              "      background-color: #E8F0FE;\n",
              "      border: none;\n",
              "      border-radius: 50%;\n",
              "      cursor: pointer;\n",
              "      display: none;\n",
              "      fill: #1967D2;\n",
              "      height: 32px;\n",
              "      padding: 0 0 0 0;\n",
              "      width: 32px;\n",
              "    }\n",
              "\n",
              "    .colab-df-convert:hover {\n",
              "      background-color: #E2EBFA;\n",
              "      box-shadow: 0px 1px 2px rgba(60, 64, 67, 0.3), 0px 1px 3px 1px rgba(60, 64, 67, 0.15);\n",
              "      fill: #174EA6;\n",
              "    }\n",
              "\n",
              "    [theme=dark] .colab-df-convert {\n",
              "      background-color: #3B4455;\n",
              "      fill: #D2E3FC;\n",
              "    }\n",
              "\n",
              "    [theme=dark] .colab-df-convert:hover {\n",
              "      background-color: #434B5C;\n",
              "      box-shadow: 0px 1px 3px 1px rgba(0, 0, 0, 0.15);\n",
              "      filter: drop-shadow(0px 1px 2px rgba(0, 0, 0, 0.3));\n",
              "      fill: #FFFFFF;\n",
              "    }\n",
              "  </style>\n",
              "\n",
              "      <script>\n",
              "        const buttonEl =\n",
              "          document.querySelector('#df-ed550c3c-6cf4-4039-adc7-efc3504913ff button.colab-df-convert');\n",
              "        buttonEl.style.display =\n",
              "          google.colab.kernel.accessAllowed ? 'block' : 'none';\n",
              "\n",
              "        async function convertToInteractive(key) {\n",
              "          const element = document.querySelector('#df-ed550c3c-6cf4-4039-adc7-efc3504913ff');\n",
              "          const dataTable =\n",
              "            await google.colab.kernel.invokeFunction('convertToInteractive',\n",
              "                                                     [key], {});\n",
              "          if (!dataTable) return;\n",
              "\n",
              "          const docLinkHtml = 'Like what you see? Visit the ' +\n",
              "            '<a target=\"_blank\" href=https://colab.research.google.com/notebooks/data_table.ipynb>data table notebook</a>'\n",
              "            + ' to learn more about interactive tables.';\n",
              "          element.innerHTML = '';\n",
              "          dataTable['output_type'] = 'display_data';\n",
              "          await google.colab.output.renderOutput(dataTable, element);\n",
              "          const docLink = document.createElement('div');\n",
              "          docLink.innerHTML = docLinkHtml;\n",
              "          element.appendChild(docLink);\n",
              "        }\n",
              "      </script>\n",
              "    </div>\n",
              "  </div>\n",
              "  "
            ]
          },
          "metadata": {},
          "execution_count": 281
        }
      ]
    },
    {
      "cell_type": "markdown",
      "source": [
        "Problem statement: prediction of overall\n",
        "survival (binary outcome, 0 or 1) using clincal clinical attributes"
      ],
      "metadata": {
        "id": "gegpk0pvf3na"
      }
    },
    {
      "cell_type": "code",
      "source": [
        "#extract clinical attributes\n",
        "df_clinicalfeatures = df.iloc[:, :31]"
      ],
      "metadata": {
        "id": "7RkHNkdRVBLM"
      },
      "execution_count": 282,
      "outputs": []
    },
    {
      "cell_type": "code",
      "source": [
        "#remove irrelevant attributes that do not contribute to survival  / death\n",
        "excluded_clinicalfeatures = ['patient_id','cancer_type','death_from_cancer', 'oncotree_code', 'cohort', 'tumor_stage', 'overall_survival_months', '3-gene_classifier_subtype', 'er_status_measured_by_ihc', 'her2_status_measured_by_snp6']\n",
        "df_clinicalfeatures = df_clinicalfeatures.drop(columns=excluded_clinicalfeatures)"
      ],
      "metadata": {
        "id": "JZZSBxR56y6m"
      },
      "execution_count": 283,
      "outputs": []
    },
    {
      "cell_type": "code",
      "source": [
        "#investigate missingness within df\n",
        "percent_missing = df_clinicalfeatures.isnull().sum() * 100 / len(df)\n",
        "missing_value_df = pd.DataFrame({'column_name': df_clinicalfeatures.columns,\n",
        "                                 'percent_missing': percent_missing})"
      ],
      "metadata": {
        "id": "_NjlM6_YVezR"
      },
      "execution_count": 284,
      "outputs": []
    },
    {
      "cell_type": "code",
      "source": [
        "#if drop all rows with na 1600 samples remained\n",
        "missing_value_df.plot.barh(x='column_name', y='percent_missing', rot=0)"
      ],
      "metadata": {
        "colab": {
          "base_uri": "https://localhost:8080/",
          "height": 282
        },
        "id": "LwL2zJxvVldd",
        "outputId": "e94b05f1-8ad9-4a57-9d98-e7127ecf7a9e"
      },
      "execution_count": 285,
      "outputs": [
        {
          "output_type": "execute_result",
          "data": {
            "text/plain": [
              "<matplotlib.axes._subplots.AxesSubplot at 0x7f585ff0cd90>"
            ]
          },
          "metadata": {},
          "execution_count": 285
        },
        {
          "output_type": "display_data",
          "data": {
            "text/plain": [
              "<Figure size 432x288 with 1 Axes>"
            ],
            "image/png": "[encoded data removed]"
          },
          "metadata": {
            "needs_background": "light"
          }
        }
      ]
    },
    {
      "cell_type": "markdown",
      "source": [
        "filter out samples with unknown death_from_cancer which act as ground truth label"
      ],
      "metadata": {
        "id": "HLt6XZrmq8d8"
      }
    },
    {
      "cell_type": "code",
      "source": [
        "df_clinicalfeatures = df_clinicalfeatures[df_clinicalfeatures['overall_survival'].notna()]"
      ],
      "metadata": {
        "id": "dhBot6wbrL86"
      },
      "execution_count": 286,
      "outputs": []
    },
    {
      "cell_type": "markdown",
      "source": [
        "convert categorical features to dummy variables"
      ],
      "metadata": {
        "id": "BigJSjWIwuYP"
      }
    },
    {
      "cell_type": "code",
      "source": [
        "df_clinicalfeatures.dtypes"
      ],
      "metadata": {
        "id": "oDMB1cd0X5rt",
        "colab": {
          "base_uri": "https://localhost:8080/"
        },
        "outputId": "f5ce50e0-1730-4055-cf52-315fe18a38a9"
      },
      "execution_count": 287,
      "outputs": [
        {
          "output_type": "execute_result",
          "data": {
            "text/plain": [
              "age_at_diagnosis                  float64\n",
              "type_of_breast_surgery             object\n",
              "cancer_type_detailed               object\n",
              "cellularity                        object\n",
              "chemotherapy                        int64\n",
              "pam50_+_claudin-low_subtype        object\n",
              "er_status                          object\n",
              "neoplasm_histologic_grade         float64\n",
              "her2_status                        object\n",
              "tumor_other_histologic_subtype     object\n",
              "hormone_therapy                     int64\n",
              "inferred_menopausal_state          object\n",
              "integrative_cluster                object\n",
              "primary_tumor_laterality           object\n",
              "lymph_nodes_examined_positive     float64\n",
              "mutation_count                    float64\n",
              "nottingham_prognostic_index       float64\n",
              "overall_survival                    int64\n",
              "pr_status                          object\n",
              "radio_therapy                       int64\n",
              "tumor_size                        float64\n",
              "dtype: object"
            ]
          },
          "metadata": {},
          "execution_count": 287
        }
      ]
    },
    {
      "cell_type": "code",
      "source": [
        "list_str_obj_cols = df_clinicalfeatures.columns[df_clinicalfeatures.dtypes == \"object\"].tolist()\n",
        "for str_obj_col in list_str_obj_cols:\n",
        "    df_clinicalfeatures[str_obj_col] = df_clinicalfeatures[str_obj_col].astype(\"category\")"
      ],
      "metadata": {
        "id": "HYsS5iIsYU6F"
      },
      "execution_count": 288,
      "outputs": []
    },
    {
      "cell_type": "code",
      "source": [
        "df_clinicalfeatures.info()"
      ],
      "metadata": {
        "id": "mIhulpOPYZNG",
        "colab": {
          "base_uri": "https://localhost:8080/"
        },
        "outputId": "6b2fbe64-f921-48b3-8256-7320b5248961"
      },
      "execution_count": 289,
      "outputs": [
        {
          "output_type": "stream",
          "name": "stdout",
          "text": [
            "<class 'pandas.core.frame.DataFrame'>\n",
            "Int64Index: 1904 entries, 0 to 1903\n",
            "Data columns (total 21 columns):\n",
            " #   Column                          Non-Null Count  Dtype   \n",
            "---  ------                          --------------  -----   \n",
            " 0   age_at_diagnosis                1904 non-null   float64 \n",
            " 1   type_of_breast_surgery          1882 non-null   category\n",
            " 2   cancer_type_detailed            1889 non-null   category\n",
            " 3   cellularity                     1850 non-null   category\n",
            " 4   chemotherapy                    1904 non-null   int64   \n",
            " 5   pam50_+_claudin-low_subtype     1904 non-null   category\n",
            " 6   er_status                       1904 non-null   category\n",
            " 7   neoplasm_histologic_grade       1832 non-null   float64 \n",
            " 8   her2_status                     1904 non-null   category\n",
            " 9   tumor_other_histologic_subtype  1889 non-null   category\n",
            " 10  hormone_therapy                 1904 non-null   int64   \n",
            " 11  inferred_menopausal_state       1904 non-null   category\n",
            " 12  integrative_cluster             1904 non-null   category\n",
            " 13  primary_tumor_laterality        1798 non-null   category\n",
            " 14  lymph_nodes_examined_positive   1904 non-null   float64 \n",
            " 15  mutation_count                  1859 non-null   float64 \n",
            " 16  nottingham_prognostic_index     1904 non-null   float64 \n",
            " 17  overall_survival                1904 non-null   int64   \n",
            " 18  pr_status                       1904 non-null   category\n",
            " 19  radio_therapy                   1904 non-null   int64   \n",
            " 20  tumor_size                      1884 non-null   float64 \n",
            "dtypes: category(11), float64(6), int64(4)\n",
            "memory usage: 186.2 KB\n"
          ]
        }
      ]
    },
    {
      "cell_type": "code",
      "source": [
        "#extract categorical features\n",
        "##evaluation: features such as cellularity has ordinal properties\n",
        "categorical_features = df_clinicalfeatures.select_dtypes(['category']).columns.values.tolist()\n",
        "categorical_features"
      ],
      "metadata": {
        "id": "XXLgjpZFoaR_",
        "colab": {
          "base_uri": "https://localhost:8080/"
        },
        "outputId": "c42995ce-8285-4db8-e972-8914ed74c427"
      },
      "execution_count": 290,
      "outputs": [
        {
          "output_type": "execute_result",
          "data": {
            "text/plain": [
              "['type_of_breast_surgery',\n",
              " 'cancer_type_detailed',\n",
              " 'cellularity',\n",
              " 'pam50_+_claudin-low_subtype',\n",
              " 'er_status',\n",
              " 'her2_status',\n",
              " 'tumor_other_histologic_subtype',\n",
              " 'inferred_menopausal_state',\n",
              " 'integrative_cluster',\n",
              " 'primary_tumor_laterality',\n",
              " 'pr_status']"
            ]
          },
          "metadata": {},
          "execution_count": 290
        }
      ]
    },
    {
      "cell_type": "markdown",
      "source": [
        "for the categorical variables, they are converted to one hot encoding signal. This is preferable since the random forest imputation conducted later on will assume ordinal properties with e.g. [0, 1, 2, 3] labels in column with labelencoder. \n",
        "\n",
        "downside is that now features such as pr_status_Negative\tpr_status_Positive are duplicated features"
      ],
      "metadata": {
        "id": "TeSnM02s2lI9"
      }
    },
    {
      "cell_type": "code",
      "source": [
        "df_clinicalfeatures_cat = pd.get_dummies(df_clinicalfeatures, columns=categorical_features)"
      ],
      "metadata": {
        "id": "BQ40lUZzuxc3"
      },
      "execution_count": 291,
      "outputs": []
    },
    {
      "cell_type": "markdown",
      "source": [
        "reason for conducting imputation: I think the sample to feature ratio is too low if simply remove samples with missing data values. This is commonlu done in genetic studies such as gwas and genomic selections to increase the power"
      ],
      "metadata": {
        "id": "t93Jz_-ZSXP7"
      }
    },
    {
      "cell_type": "code",
      "source": [
        "import sklearn.neighbors._base \n",
        "import sys\n",
        "sys.modules['sklearn.neighbors.base'] = sklearn.neighbors._base\n",
        "from missingpy import MissForest\n",
        "\n",
        "# Make an instance and perform the imputation\n",
        "imputer = MissForest()\n",
        "X = df_clinicalfeatures_cat\n",
        "X_imputed = imputer.fit_transform(X)"
      ],
      "metadata": {
        "id": "J4Qt9vPoPjc4",
        "colab": {
          "base_uri": "https://localhost:8080/"
        },
        "outputId": "af58904c-a599-4216-f668-a3d76f2c10b7"
      },
      "execution_count": 292,
      "outputs": [
        {
          "output_type": "stream",
          "name": "stderr",
          "text": [
            "/usr/local/lib/python3.7/dist-packages/sklearn/ensemble/_forest.py:400: FutureWarning: Criterion 'mse' was deprecated in v1.0 and will be removed in version 1.2. Use `criterion='squared_error'` which is equivalent.\n",
            "  FutureWarning,\n",
            "/usr/local/lib/python3.7/dist-packages/sklearn/ensemble/_forest.py:400: FutureWarning: Criterion 'mse' was deprecated in v1.0 and will be removed in version 1.2. Use `criterion='squared_error'` which is equivalent.\n",
            "  FutureWarning,\n",
            "/usr/local/lib/python3.7/dist-packages/sklearn/ensemble/_forest.py:400: FutureWarning: Criterion 'mse' was deprecated in v1.0 and will be removed in version 1.2. Use `criterion='squared_error'` which is equivalent.\n",
            "  FutureWarning,\n"
          ]
        },
        {
          "output_type": "stream",
          "name": "stdout",
          "text": [
            "Iteration: 0\n"
          ]
        },
        {
          "output_type": "stream",
          "name": "stderr",
          "text": [
            "/usr/local/lib/python3.7/dist-packages/sklearn/ensemble/_forest.py:400: FutureWarning: Criterion 'mse' was deprecated in v1.0 and will be removed in version 1.2. Use `criterion='squared_error'` which is equivalent.\n",
            "  FutureWarning,\n",
            "/usr/local/lib/python3.7/dist-packages/sklearn/ensemble/_forest.py:400: FutureWarning: Criterion 'mse' was deprecated in v1.0 and will be removed in version 1.2. Use `criterion='squared_error'` which is equivalent.\n",
            "  FutureWarning,\n",
            "/usr/local/lib/python3.7/dist-packages/sklearn/ensemble/_forest.py:400: FutureWarning: Criterion 'mse' was deprecated in v1.0 and will be removed in version 1.2. Use `criterion='squared_error'` which is equivalent.\n",
            "  FutureWarning,\n"
          ]
        },
        {
          "output_type": "stream",
          "name": "stdout",
          "text": [
            "Iteration: 1\n"
          ]
        },
        {
          "output_type": "stream",
          "name": "stderr",
          "text": [
            "/usr/local/lib/python3.7/dist-packages/sklearn/ensemble/_forest.py:400: FutureWarning: Criterion 'mse' was deprecated in v1.0 and will be removed in version 1.2. Use `criterion='squared_error'` which is equivalent.\n",
            "  FutureWarning,\n",
            "/usr/local/lib/python3.7/dist-packages/sklearn/ensemble/_forest.py:400: FutureWarning: Criterion 'mse' was deprecated in v1.0 and will be removed in version 1.2. Use `criterion='squared_error'` which is equivalent.\n",
            "  FutureWarning,\n",
            "/usr/local/lib/python3.7/dist-packages/sklearn/ensemble/_forest.py:400: FutureWarning: Criterion 'mse' was deprecated in v1.0 and will be removed in version 1.2. Use `criterion='squared_error'` which is equivalent.\n",
            "  FutureWarning,\n"
          ]
        },
        {
          "output_type": "stream",
          "name": "stdout",
          "text": [
            "Iteration: 2\n"
          ]
        },
        {
          "output_type": "stream",
          "name": "stderr",
          "text": [
            "/usr/local/lib/python3.7/dist-packages/sklearn/ensemble/_forest.py:400: FutureWarning: Criterion 'mse' was deprecated in v1.0 and will be removed in version 1.2. Use `criterion='squared_error'` which is equivalent.\n",
            "  FutureWarning,\n",
            "/usr/local/lib/python3.7/dist-packages/sklearn/ensemble/_forest.py:400: FutureWarning: Criterion 'mse' was deprecated in v1.0 and will be removed in version 1.2. Use `criterion='squared_error'` which is equivalent.\n",
            "  FutureWarning,\n",
            "/usr/local/lib/python3.7/dist-packages/sklearn/ensemble/_forest.py:400: FutureWarning: Criterion 'mse' was deprecated in v1.0 and will be removed in version 1.2. Use `criterion='squared_error'` which is equivalent.\n",
            "  FutureWarning,\n"
          ]
        },
        {
          "output_type": "stream",
          "name": "stdout",
          "text": [
            "Iteration: 3\n"
          ]
        }
      ]
    },
    {
      "cell_type": "code",
      "source": [
        "df_clinicalfeatures_imputed = pd.DataFrame(X_imputed, columns = df_clinicalfeatures_cat.columns)"
      ],
      "metadata": {
        "id": "iq4A5cBjqBdj"
      },
      "execution_count": 293,
      "outputs": []
    },
    {
      "cell_type": "code",
      "source": [
        "df_clinicalfeatures_imputed.info()"
      ],
      "metadata": {
        "colab": {
          "base_uri": "https://localhost:8080/"
        },
        "id": "PYqhxjr5X8kC",
        "outputId": "cb5fedcf-81db-49c8-9079-0dfa549190cd"
      },
      "execution_count": 294,
      "outputs": [
        {
          "output_type": "stream",
          "name": "stdout",
          "text": [
            "<class 'pandas.core.frame.DataFrame'>\n",
            "RangeIndex: 1904 entries, 0 to 1903\n",
            "Data columns (total 57 columns):\n",
            " #   Column                                                          Non-Null Count  Dtype  \n",
            "---  ------                                                          --------------  -----  \n",
            " 0   age_at_diagnosis                                                1904 non-null   float64\n",
            " 1   chemotherapy                                                    1904 non-null   float64\n",
            " 2   neoplasm_histologic_grade                                       1904 non-null   float64\n",
            " 3   hormone_therapy                                                 1904 non-null   float64\n",
            " 4   lymph_nodes_examined_positive                                   1904 non-null   float64\n",
            " 5   mutation_count                                                  1904 non-null   float64\n",
            " 6   nottingham_prognostic_index                                     1904 non-null   float64\n",
            " 7   overall_survival                                                1904 non-null   float64\n",
            " 8   radio_therapy                                                   1904 non-null   float64\n",
            " 9   tumor_size                                                      1904 non-null   float64\n",
            " 10  type_of_breast_surgery_BREAST CONSERVING                        1904 non-null   float64\n",
            " 11  type_of_breast_surgery_MASTECTOMY                               1904 non-null   float64\n",
            " 12  cancer_type_detailed_Breast                                     1904 non-null   float64\n",
            " 13  cancer_type_detailed_Breast Invasive Ductal Carcinoma           1904 non-null   float64\n",
            " 14  cancer_type_detailed_Breast Invasive Lobular Carcinoma          1904 non-null   float64\n",
            " 15  cancer_type_detailed_Breast Invasive Mixed Mucinous Carcinoma   1904 non-null   float64\n",
            " 16  cancer_type_detailed_Breast Mixed Ductal and Lobular Carcinoma  1904 non-null   float64\n",
            " 17  cancer_type_detailed_Metaplastic Breast Cancer                  1904 non-null   float64\n",
            " 18  cellularity_High                                                1904 non-null   float64\n",
            " 19  cellularity_Low                                                 1904 non-null   float64\n",
            " 20  cellularity_Moderate                                            1904 non-null   float64\n",
            " 21  pam50_+_claudin-low_subtype_Basal                               1904 non-null   float64\n",
            " 22  pam50_+_claudin-low_subtype_Her2                                1904 non-null   float64\n",
            " 23  pam50_+_claudin-low_subtype_LumA                                1904 non-null   float64\n",
            " 24  pam50_+_claudin-low_subtype_LumB                                1904 non-null   float64\n",
            " 25  pam50_+_claudin-low_subtype_NC                                  1904 non-null   float64\n",
            " 26  pam50_+_claudin-low_subtype_Normal                              1904 non-null   float64\n",
            " 27  pam50_+_claudin-low_subtype_claudin-low                         1904 non-null   float64\n",
            " 28  er_status_Negative                                              1904 non-null   float64\n",
            " 29  er_status_Positive                                              1904 non-null   float64\n",
            " 30  her2_status_Negative                                            1904 non-null   float64\n",
            " 31  her2_status_Positive                                            1904 non-null   float64\n",
            " 32  tumor_other_histologic_subtype_Ductal/NST                       1904 non-null   float64\n",
            " 33  tumor_other_histologic_subtype_Lobular                          1904 non-null   float64\n",
            " 34  tumor_other_histologic_subtype_Medullary                        1904 non-null   float64\n",
            " 35  tumor_other_histologic_subtype_Metaplastic                      1904 non-null   float64\n",
            " 36  tumor_other_histologic_subtype_Mixed                            1904 non-null   float64\n",
            " 37  tumor_other_histologic_subtype_Mucinous                         1904 non-null   float64\n",
            " 38  tumor_other_histologic_subtype_Other                            1904 non-null   float64\n",
            " 39  tumor_other_histologic_subtype_Tubular/ cribriform              1904 non-null   float64\n",
            " 40  inferred_menopausal_state_Post                                  1904 non-null   float64\n",
            " 41  inferred_menopausal_state_Pre                                   1904 non-null   float64\n",
            " 42  integrative_cluster_1                                           1904 non-null   float64\n",
            " 43  integrative_cluster_10                                          1904 non-null   float64\n",
            " 44  integrative_cluster_2                                           1904 non-null   float64\n",
            " 45  integrative_cluster_3                                           1904 non-null   float64\n",
            " 46  integrative_cluster_4ER+                                        1904 non-null   float64\n",
            " 47  integrative_cluster_4ER-                                        1904 non-null   float64\n",
            " 48  integrative_cluster_5                                           1904 non-null   float64\n",
            " 49  integrative_cluster_6                                           1904 non-null   float64\n",
            " 50  integrative_cluster_7                                           1904 non-null   float64\n",
            " 51  integrative_cluster_8                                           1904 non-null   float64\n",
            " 52  integrative_cluster_9                                           1904 non-null   float64\n",
            " 53  primary_tumor_laterality_Left                                   1904 non-null   float64\n",
            " 54  primary_tumor_laterality_Right                                  1904 non-null   float64\n",
            " 55  pr_status_Negative                                              1904 non-null   float64\n",
            " 56  pr_status_Positive                                              1904 non-null   float64\n",
            "dtypes: float64(57)\n",
            "memory usage: 848.0 KB\n"
          ]
        }
      ]
    },
    {
      "cell_type": "markdown",
      "source": [
        "build model: Mixed effects logistic regression vs support vector machine (svm)"
      ],
      "metadata": {
        "id": "NYnpWx6-4STH"
      }
    },
    {
      "cell_type": "code",
      "source": [
        "X = df_clinicalfeatures_imputed.drop(columns=['overall_survival'])\n",
        "y = df_clinicalfeatures_imputed['overall_survival']\n",
        "\n",
        "# In the first step we will split the data in training and remaining dataset\n",
        "X_train, X_rem, y_train, y_rem = train_test_split(X,y, train_size=0.8)\n",
        "\n",
        "# Now since we want the valid and test size to be equal (10% each of overall data). \n",
        "# we have to define valid_size=0.5 (that is 50% of remaining data)\n",
        "test_size = 0.5\n",
        "X_valid, X_test, y_valid, y_test = train_test_split(X_rem,y_rem, test_size=0.5)"
      ],
      "metadata": {
        "id": "4jOwNmf-22hs"
      },
      "execution_count": 295,
      "outputs": []
    },
    {
      "cell_type": "code",
      "source": [
        "print(X_train.shape)\n",
        "print(X_valid.shape)\n",
        "print(X_test.shape)\n",
        "print(y_train.shape)\n",
        "print(y_valid.shape)\n",
        "print(y_test.shape)"
      ],
      "metadata": {
        "colab": {
          "base_uri": "https://localhost:8080/"
        },
        "id": "jMck-tAlUUVW",
        "outputId": "c8da90fb-80c2-4bd2-b4b7-7ed3cd34e7bb"
      },
      "execution_count": 296,
      "outputs": [
        {
          "output_type": "stream",
          "name": "stdout",
          "text": [
            "(1523, 56)\n",
            "(190, 56)\n",
            "(191, 56)\n",
            "(1523,)\n",
            "(190,)\n",
            "(191,)\n"
          ]
        }
      ]
    },
    {
      "cell_type": "code",
      "source": [
        "from sklearn.linear_model import LogisticRegression\n",
        "\n",
        "# instantiate the model (using the default parameters)\n",
        "logreg = LogisticRegression(max_iter = 1000)\n",
        "\n",
        "# fit the model with data\n",
        "logreg.fit(X_train, y_train)\n",
        "\n",
        "y_pred = logreg.predict(X_test)"
      ],
      "metadata": {
        "colab": {
          "base_uri": "https://localhost:8080/"
        },
        "id": "8RUEbYA5TETK",
        "outputId": "1350ab7e-fd0f-4809-c71d-3e9c20f96496"
      },
      "execution_count": 297,
      "outputs": [
        {
          "output_type": "stream",
          "name": "stderr",
          "text": [
            "/usr/local/lib/python3.7/dist-packages/sklearn/linear_model/_logistic.py:818: ConvergenceWarning: lbfgs failed to converge (status=1):\n",
            "STOP: TOTAL NO. of ITERATIONS REACHED LIMIT.\n",
            "\n",
            "Increase the number of iterations (max_iter) or scale the data as shown in:\n",
            "    https://scikit-learn.org/stable/modules/preprocessing.html\n",
            "Please also refer to the documentation for alternative solver options:\n",
            "    https://scikit-learn.org/stable/modules/linear_model.html#logistic-regression\n",
            "  extra_warning_msg=_LOGISTIC_SOLVER_CONVERGENCE_MSG,\n"
          ]
        }
      ]
    },
    {
      "cell_type": "code",
      "source": [
        "from sklearn.metrics import classification_report\n",
        "target_names = ['death', 'survival']\n",
        "print(classification_report(y_test, y_pred, target_names=target_names))"
      ],
      "metadata": {
        "colab": {
          "base_uri": "https://localhost:8080/"
        },
        "id": "yEKKtWXsUGdA",
        "outputId": "848d34b8-07d6-4b30-c2b6-6168f9784427"
      },
      "execution_count": 298,
      "outputs": [
        {
          "output_type": "stream",
          "name": "stdout",
          "text": [
            "              precision    recall  f1-score   support\n",
            "\n",
            "       death       0.75      0.76      0.75       112\n",
            "    survival       0.65      0.63      0.64        79\n",
            "\n",
            "    accuracy                           0.71       191\n",
            "   macro avg       0.70      0.70      0.70       191\n",
            "weighted avg       0.71      0.71      0.71       191\n",
            "\n"
          ]
        }
      ]
    },
    {
      "cell_type": "markdown",
      "source": [
        "model with svm"
      ],
      "metadata": {
        "id": "ACQkQ9DedAJU"
      }
    },
    {
      "cell_type": "code",
      "source": [
        "from sklearn.svm import SVC\n",
        "svclassifier = SVC(kernel='rbf')\n",
        "svclassifier.fit(X_train, y_train)"
      ],
      "metadata": {
        "colab": {
          "base_uri": "https://localhost:8080/"
        },
        "id": "8nsk9pAddDI2",
        "outputId": "2e5e891f-1eb0-4279-d2d2-93a05ed077bc"
      },
      "execution_count": 299,
      "outputs": [
        {
          "output_type": "execute_result",
          "data": {
            "text/plain": [
              "SVC()"
            ]
          },
          "metadata": {},
          "execution_count": 299
        }
      ]
    },
    {
      "cell_type": "code",
      "source": [
        "from sklearn.metrics import classification_report\n",
        "y_pred = svclassifier.predict(X_test)\n",
        "target_names = ['death', 'survival']\n",
        "print(classification_report(y_test, y_pred, target_names=target_names))"
      ],
      "metadata": {
        "colab": {
          "base_uri": "https://localhost:8080/"
        },
        "id": "x0ck31PfdP9a",
        "outputId": "d1dee71f-c198-46b4-9b44-001b61161dbd"
      },
      "execution_count": 300,
      "outputs": [
        {
          "output_type": "stream",
          "name": "stdout",
          "text": [
            "              precision    recall  f1-score   support\n",
            "\n",
            "       death       0.71      0.81      0.76       112\n",
            "    survival       0.66      0.52      0.58        79\n",
            "\n",
            "    accuracy                           0.69       191\n",
            "   macro avg       0.68      0.67      0.67       191\n",
            "weighted avg       0.69      0.69      0.68       191\n",
            "\n"
          ]
        }
      ]
    },
    {
      "cell_type": "code",
      "source": [
        "lr_probs = logreg.predict_proba(X_test)\n",
        "ns_probs = [0 for _ in range(len(y_test))]\n",
        "svm_pred = svclassifier.predict(X_test)\n",
        "# keep probabilities for the positive outcome only\n",
        "lr_probs = lr_probs[:, 1]\n",
        "# calculate scores\n",
        "#one-class SVM doesn't produce probability estimates for roc curves\n",
        "ns_auc = roc_auc_score(y_test, ns_probs)\n",
        "lr_auc = roc_auc_score(y_test, lr_probs)\n",
        "# summarize scores\n",
        "print('No Skill: ROC AUC=%.3f' % (ns_auc))\n",
        "print('Logistic: ROC AUC=%.3f' % (lr_auc))\n",
        "# calculate roc curves\n",
        "ns_fpr, ns_tpr, _ = roc_curve(y_test, ns_probs)\n",
        "lr_fpr, lr_tpr, _ = roc_curve(y_test, lr_probs)\n",
        "svm_fpr, svm_tpr, _ = roc_curve(y_test, svm_pred)\n",
        "\n",
        "\n",
        "# plot the roc curve for the model\n",
        "plt.plot(ns_fpr, ns_tpr, linestyle='--', label='No Skill')\n",
        "plt.plot(lr_fpr, lr_tpr, marker='.', label='Logistic')\n",
        "plt.plot(svm_fpr, svm_tpr, marker='_', label='svm')\n",
        "\n",
        "\n",
        "# axis labels\n",
        "plt.xlabel('False Positive Rate')\n",
        "plt.ylabel('True Positive Rate')\n",
        "# show the legend\n",
        "plt.legend()\n",
        "# show the plot\n",
        "plt.show()"
      ],
      "metadata": {
        "colab": {
          "base_uri": "https://localhost:8080/",
          "height": 314
        },
        "id": "RgMIXALzbK1f",
        "outputId": "67964b7d-92b4-465c-dcba-d69f6a6ad17d"
      },
      "execution_count": 301,
      "outputs": [
        {
          "output_type": "stream",
          "name": "stdout",
          "text": [
            "No Skill: ROC AUC=0.500\n",
            "Logistic: ROC AUC=0.731\n"
          ]
        },
        {
          "output_type": "display_data",
          "data": {
            "text/plain": [
              "<Figure size 432x288 with 1 Axes>"
            ],
            "image/png": "[encoded data removed]"
          },
          "metadata": {
            "needs_background": "light"
          }
        }
      ]
    },
    {
      "cell_type": "markdown",
      "source": [
        "conclusion: the logistic regression outperformed the svm and baseline method."
      ],
      "metadata": {
        "id": "zc5jvk1YlajZ"
      }
    },
    {
      "cell_type": "markdown",
      "source": [
        "extract feature importance in logistic regression prediction"
      ],
      "metadata": {
        "id": "AYpQR4xLkG1Y"
      }
    },
    {
      "cell_type": "code",
      "source": [
        "importance = logreg.coef_[0]\n",
        "features = X.columns.values.tolist()\n",
        "# summarize feature importance\n",
        "for i,v in enumerate(importance):\n",
        "\tprint('Feature: %s, Score: %.5f' % (features[i],v))"
      ],
      "metadata": {
        "colab": {
          "base_uri": "https://localhost:8080/"
        },
        "id": "ywN3zsBiVLpY",
        "outputId": "07fa2745-de9b-4be8-c38b-6490d1ca7fb9"
      },
      "execution_count": 302,
      "outputs": [
        {
          "output_type": "stream",
          "name": "stdout",
          "text": [
            "Feature: age_at_diagnosis, Score: -0.07319\n",
            "Feature: chemotherapy, Score: -0.06906\n",
            "Feature: neoplasm_histologic_grade, Score: 0.10566\n",
            "Feature: hormone_therapy, Score: 0.33016\n",
            "Feature: lymph_nodes_examined_positive, Score: -0.08133\n",
            "Feature: mutation_count, Score: -0.04586\n",
            "Feature: nottingham_prognostic_index, Score: -0.16258\n",
            "Feature: radio_therapy, Score: 0.37020\n",
            "Feature: tumor_size, Score: -0.01300\n",
            "Feature: type_of_breast_surgery_BREAST CONSERVING, Score: 0.10924\n",
            "Feature: type_of_breast_surgery_MASTECTOMY, Score: -0.03724\n",
            "Feature: cancer_type_detailed_Breast, Score: 0.53051\n",
            "Feature: cancer_type_detailed_Breast Invasive Ductal Carcinoma, Score: -0.15299\n",
            "Feature: cancer_type_detailed_Breast Invasive Lobular Carcinoma, Score: -0.04939\n",
            "Feature: cancer_type_detailed_Breast Invasive Mixed Mucinous Carcinoma, Score: 0.27683\n",
            "Feature: cancer_type_detailed_Breast Mixed Ductal and Lobular Carcinoma, Score: -0.18615\n",
            "Feature: cancer_type_detailed_Metaplastic Breast Cancer, Score: -0.47116\n",
            "Feature: cellularity_High, Score: -0.02186\n",
            "Feature: cellularity_Low, Score: -0.06819\n",
            "Feature: cellularity_Moderate, Score: -0.21402\n",
            "Feature: pam50_+_claudin-low_subtype_Basal, Score: -0.16937\n",
            "Feature: pam50_+_claudin-low_subtype_Her2, Score: -0.35593\n",
            "Feature: pam50_+_claudin-low_subtype_LumA, Score: 0.34298\n",
            "Feature: pam50_+_claudin-low_subtype_LumB, Score: -0.02025\n",
            "Feature: pam50_+_claudin-low_subtype_NC, Score: -0.01054\n",
            "Feature: pam50_+_claudin-low_subtype_Normal, Score: 0.04547\n",
            "Feature: pam50_+_claudin-low_subtype_claudin-low, Score: 0.31370\n",
            "Feature: er_status_Negative, Score: -0.05994\n",
            "Feature: er_status_Positive, Score: 0.20601\n",
            "Feature: her2_status_Negative, Score: -0.22485\n",
            "Feature: her2_status_Positive, Score: 0.37091\n",
            "Feature: tumor_other_histologic_subtype_Ductal/NST, Score: 0.08375\n",
            "Feature: tumor_other_histologic_subtype_Lobular, Score: -0.04939\n",
            "Feature: tumor_other_histologic_subtype_Medullary, Score: -0.58815\n",
            "Feature: tumor_other_histologic_subtype_Metaplastic, Score: -0.47116\n",
            "Feature: tumor_other_histologic_subtype_Mixed, Score: -0.18615\n",
            "Feature: tumor_other_histologic_subtype_Mucinous, Score: 0.27683\n",
            "Feature: tumor_other_histologic_subtype_Other, Score: 0.53051\n",
            "Feature: tumor_other_histologic_subtype_Tubular/ cribriform, Score: 0.35141\n",
            "Feature: inferred_menopausal_state_Post, Score: 0.38877\n",
            "Feature: inferred_menopausal_state_Pre, Score: -0.24270\n",
            "Feature: integrative_cluster_1, Score: 0.33332\n",
            "Feature: integrative_cluster_10, Score: 0.59152\n",
            "Feature: integrative_cluster_2, Score: -0.46915\n",
            "Feature: integrative_cluster_3, Score: 0.20396\n",
            "Feature: integrative_cluster_4ER+, Score: 0.26740\n",
            "Feature: integrative_cluster_4ER-, Score: 0.23399\n",
            "Feature: integrative_cluster_5, Score: -0.76081\n",
            "Feature: integrative_cluster_6, Score: -0.19453\n",
            "Feature: integrative_cluster_7, Score: 0.04137\n",
            "Feature: integrative_cluster_8, Score: -0.03904\n",
            "Feature: integrative_cluster_9, Score: -0.06197\n",
            "Feature: primary_tumor_laterality_Left, Score: 0.18516\n",
            "Feature: primary_tumor_laterality_Right, Score: 0.33749\n",
            "Feature: pr_status_Negative, Score: 0.13268\n",
            "Feature: pr_status_Positive, Score: 0.01338\n"
          ]
        }
      ]
    }
  ]
}