{
  "nbformat": 4,
  "nbformat_minor": 0,
  "metadata": {
    "colab": {
      "provenance": [],
      "collapsed_sections": [],
      "authorship_tag": "ABX9TyMIYinRxCLdu+6Sh+YKTZjt",
      "include_colab_link": true
    },
    "kernelspec": {
      "name": "python3",
      "display_name": "Python 3"
    },
    "language_info": {
      "name": "python"
    }
  },
  "cells": [
    {
      "cell_type": "markdown",
      "metadata": {
        "id": "view-in-github",
        "colab_type": "text"
      },
      "source": [
        "<a href=\"https://colab.research.google.com/github/jackysiupuichung/breast-cancer-survival-binary-prediction/blob/main/breastcancer_binary_prediction.ipynb\" target=\"_parent\"><img src=\"https://colab.research.google.com/assets/colab-badge.svg\" alt=\"Open In Colab\"/></a>"
      ]
    },
    {
      "cell_type": "code",
      "execution_count": 253,
      "metadata": {
        "id": "AO0CDncXLoN5"
      },
      "outputs": [],
      "source": [
        "import pandas as pd\n",
        "import zipfile\n",
        "import pandas as pd\n",
        "import numpy as np\n",
        "import matplotlib.pyplot as plt\n",
        "import sklearn\n",
        "import random\n",
        "from sklearn.model_selection import train_test_split\n",
        "from sklearn.metrics import roc_curve\n",
        "from sklearn.metrics import roc_auc_score"
      ]
    },
    {
      "cell_type": "code",
      "source": [
        "!pip install missingpy"
      ],
      "metadata": {
        "colab": {
          "base_uri": "https://localhost:8080/"
        },
        "id": "enoZIpNDZHzU",
        "outputId": "9ec775ed-7fb8-4869-92c4-1ac286f1683c"
      },
      "execution_count": 183,
      "outputs": [
        {
          "output_type": "stream",
          "name": "stdout",
          "text": [
            "Looking in indexes: https://pypi.org/simple, https://us-python.pkg.dev/colab-wheels/public/simple/\n",
            "Requirement already satisfied: missingpy in /usr/local/lib/python3.7/dist-packages (0.2.0)\n"
          ]
        }
      ]
    },
    {
      "cell_type": "code",
      "source": [
        "random.seed(123)"
      ],
      "metadata": {
        "id": "ibYwEX1mNQRQ"
      },
      "execution_count": 184,
      "outputs": []
    },
    {
      "cell_type": "code",
      "source": [
        "zf = zipfile.ZipFile('breastcancer.zip') \n",
        "df = pd.read_csv(zf.open('METABRIC_RNA_Mutation.csv'))"
      ],
      "metadata": {
        "colab": {
          "base_uri": "https://localhost:8080/"
        },
        "id": "Nrj2SsV6MEN0",
        "outputId": "c1d84310-adcb-4f42-eacc-4ceb0336695e"
      },
      "execution_count": 185,
      "outputs": [
        {
          "output_type": "stream",
          "name": "stderr",
          "text": [
            "/usr/local/lib/python3.7/dist-packages/IPython/core/interactiveshell.py:3326: DtypeWarning: Columns (678,688,690,692) have mixed types.Specify dtype option on import or set low_memory=False.\n",
            "  exec(code_obj, self.user_global_ns, self.user_ns)\n"
          ]
        }
      ]
    },
    {
      "cell_type": "markdown",
      "source": [
        "replace '' to NA"
      ],
      "metadata": {
        "id": "Fgrxp8XUUlL4"
      }
    },
    {
      "cell_type": "code",
      "source": [
        "df.replace('', np.NaN)"
      ],
      "metadata": {
        "id": "GELUqfovUkXN"
      },
      "execution_count": null,
      "outputs": []
    },
    {
      "cell_type": "markdown",
      "source": [
        "Problem statement: prediction of overall\n",
        "survival (binary outcome, 0 or 1) using clincal clinical attributes"
      ],
      "metadata": {
        "id": "gegpk0pvf3na"
      }
    },
    {
      "cell_type": "code",
      "source": [
        "#extract clinical attributes\n",
        "df_clinicalfeatures = df.iloc[:, :31]"
      ],
      "metadata": {
        "id": "7RkHNkdRVBLM"
      },
      "execution_count": 192,
      "outputs": []
    },
    {
      "cell_type": "code",
      "source": [
        "#remove irrelevant attributes that do not contribute to survival  / death\n",
        "excluded_clinicalfeatures = ['patient_id','cancer_type','death_from_cancer', 'oncotree_code', 'cohort', 'tumor_stage', 'overall_survival_months', '3-gene_classifier_subtype', 'er_status_measured_by_ihc', 'her2_status_measured_by_snp6']\n",
        "df_clinicalfeatures = df_clinicalfeatures.drop(columns=excluded_clinicalfeatures)"
      ],
      "metadata": {
        "id": "JZZSBxR56y6m"
      },
      "execution_count": 200,
      "outputs": []
    },
    {
      "cell_type": "code",
      "source": [
        "#investigate missingness within df\n",
        "percent_missing = df_clinicalfeatures.isnull().sum() * 100 / len(df)\n",
        "missing_value_df = pd.DataFrame({'column_name': df_clinicalfeatures.columns,\n",
        "                                 'percent_missing': percent_missing})"
      ],
      "metadata": {
        "id": "_NjlM6_YVezR"
      },
      "execution_count": 201,
      "outputs": []
    },
    {
      "cell_type": "code",
      "source": [
        "missing_value_df.plot.barh(x='column_name', y='percent_missing', rot=0)"
      ],
      "metadata": {
        "colab": {
          "base_uri": "https://localhost:8080/",
          "height": 282
        },
        "id": "LwL2zJxvVldd",
        "outputId": "03a6a038-fd96-4875-95e9-261b4d16fc88"
      },
      "execution_count": 202,
      "outputs": [
        {
          "output_type": "execute_result",
          "data": {
            "text/plain": [
              "<matplotlib.axes._subplots.AxesSubplot at 0x7f58647de0d0>"
            ]
          },
          "metadata": {},
          "execution_count": 202
        },
        {
          "output_type": "display_data",
          "data": {
            "text/plain": [
              "<Figure size 432x288 with 1 Axes>"
            ],
            "image/png": "[encoded data removed]"
          },
          "metadata": {
            "needs_background": "light"
          }
        }
      ]
    },
    {
      "cell_type": "markdown",
      "source": [
        "filter out samples with unknown death_from_cancer which act as ground truth label"
      ],
      "metadata": {
        "id": "HLt6XZrmq8d8"
      }
    },
    {
      "cell_type": "code",
      "source": [
        "df_clinicalfeatures = df_clinicalfeatures[df_clinicalfeatures['overall_survival'].notna()]"
      ],
      "metadata": {
        "id": "dhBot6wbrL86"
      },
      "execution_count": 203,
      "outputs": []
    },
    {
      "cell_type": "markdown",
      "source": [
        "convert categorical features to dummy variables"
      ],
      "metadata": {
        "id": "BigJSjWIwuYP"
      }
    },
    {
      "cell_type": "code",
      "source": [
        "df_clinicalfeatures.dtypes"
      ],
      "metadata": {
        "id": "oDMB1cd0X5rt",
        "colab": {
          "base_uri": "https://localhost:8080/"
        },
        "outputId": "8668b71e-960e-421c-e5f2-f9ebd784646d"
      },
      "execution_count": 205,
      "outputs": [
        {
          "output_type": "execute_result",
          "data": {
            "text/plain": [
              "age_at_diagnosis                  float64\n",
              "type_of_breast_surgery             object\n",
              "cancer_type_detailed               object\n",
              "cellularity                        object\n",
              "chemotherapy                        int64\n",
              "pam50_+_claudin-low_subtype        object\n",
              "er_status                          object\n",
              "neoplasm_histologic_grade         float64\n",
              "her2_status                        object\n",
              "tumor_other_histologic_subtype     object\n",
              "hormone_therapy                     int64\n",
              "inferred_menopausal_state          object\n",
              "integrative_cluster                object\n",
              "primary_tumor_laterality           object\n",
              "lymph_nodes_examined_positive     float64\n",
              "mutation_count                    float64\n",
              "nottingham_prognostic_index       float64\n",
              "overall_survival                    int64\n",
              "pr_status                          object\n",
              "radio_therapy                       int64\n",
              "tumor_size                        float64\n",
              "dtype: object"
            ]
          },
          "metadata": {},
          "execution_count": 205
        }
      ]
    },
    {
      "cell_type": "code",
      "source": [
        "list_str_obj_cols = df_clinicalfeatures.columns[df_clinicalfeatures.dtypes == \"object\"].tolist()\n",
        "for str_obj_col in list_str_obj_cols:\n",
        "    df_clinicalfeatures[str_obj_col] = df_clinicalfeatures[str_obj_col].astype(\"category\")"
      ],
      "metadata": {
        "id": "HYsS5iIsYU6F"
      },
      "execution_count": 206,
      "outputs": []
    },
    {
      "cell_type": "code",
      "source": [
        "df_clinicalfeatures.info()"
      ],
      "metadata": {
        "id": "mIhulpOPYZNG",
        "colab": {
          "base_uri": "https://localhost:8080/"
        },
        "outputId": "316d0e97-885a-4b89-d5c9-c509b61d23ca"
      },
      "execution_count": 207,
      "outputs": [
        {
          "output_type": "stream",
          "name": "stdout",
          "text": [
            "<class 'pandas.core.frame.DataFrame'>\n",
            "Int64Index: 1903 entries, 0 to 1903\n",
            "Data columns (total 21 columns):\n",
            " #   Column                          Non-Null Count  Dtype   \n",
            "---  ------                          --------------  -----   \n",
            " 0   age_at_diagnosis                1903 non-null   float64 \n",
            " 1   type_of_breast_surgery          1881 non-null   category\n",
            " 2   cancer_type_detailed            1888 non-null   category\n",
            " 3   cellularity                     1849 non-null   category\n",
            " 4   chemotherapy                    1903 non-null   int64   \n",
            " 5   pam50_+_claudin-low_subtype     1903 non-null   category\n",
            " 6   er_status                       1903 non-null   category\n",
            " 7   neoplasm_histologic_grade       1831 non-null   float64 \n",
            " 8   her2_status                     1903 non-null   category\n",
            " 9   tumor_other_histologic_subtype  1888 non-null   category\n",
            " 10  hormone_therapy                 1903 non-null   int64   \n",
            " 11  inferred_menopausal_state       1903 non-null   category\n",
            " 12  integrative_cluster             1903 non-null   category\n",
            " 13  primary_tumor_laterality        1797 non-null   category\n",
            " 14  lymph_nodes_examined_positive   1903 non-null   float64 \n",
            " 15  mutation_count                  1858 non-null   float64 \n",
            " 16  nottingham_prognostic_index     1903 non-null   float64 \n",
            " 17  overall_survival                1903 non-null   int64   \n",
            " 18  pr_status                       1903 non-null   category\n",
            " 19  radio_therapy                   1903 non-null   int64   \n",
            " 20  tumor_size                      1883 non-null   float64 \n",
            "dtypes: category(11), float64(6), int64(4)\n",
            "memory usage: 186.1 KB\n"
          ]
        }
      ]
    },
    {
      "cell_type": "code",
      "source": [
        "#extract categorical features\n",
        "##evaluation: features such as cellularity has ordinal properties\n",
        "categorical_features = df_clinicalfeatures.select_dtypes(['category']).columns.values.tolist()\n",
        "categorical_features"
      ],
      "metadata": {
        "id": "XXLgjpZFoaR_",
        "colab": {
          "base_uri": "https://localhost:8080/"
        },
        "outputId": "2929a085-192e-4b69-9d0e-3f4b6a5e0a9a"
      },
      "execution_count": 208,
      "outputs": [
        {
          "output_type": "execute_result",
          "data": {
            "text/plain": [
              "['type_of_breast_surgery',\n",
              " 'cancer_type_detailed',\n",
              " 'cellularity',\n",
              " 'pam50_+_claudin-low_subtype',\n",
              " 'er_status',\n",
              " 'her2_status',\n",
              " 'tumor_other_histologic_subtype',\n",
              " 'inferred_menopausal_state',\n",
              " 'integrative_cluster',\n",
              " 'primary_tumor_laterality',\n",
              " 'pr_status']"
            ]
          },
          "metadata": {},
          "execution_count": 208
        }
      ]
    },
    {
      "cell_type": "markdown",
      "source": [
        "for the categorical variables, they are converted to one hot encoding signal. This is preferable since the random forest imputation conducted later on will assume ordinal properties with e.g. [0, 1, 2, 3] labels in column with labelencoder. \n",
        "\n",
        "downside is that now features such as pr_status_Negative\tpr_status_Positive are duplicated features"
      ],
      "metadata": {
        "id": "TeSnM02s2lI9"
      }
    },
    {
      "cell_type": "code",
      "source": [
        "df_clinicalfeatures_cat = pd.get_dummies(df_clinicalfeatures, columns=categorical_features)"
      ],
      "metadata": {
        "id": "BQ40lUZzuxc3"
      },
      "execution_count": 209,
      "outputs": []
    },
    {
      "cell_type": "markdown",
      "source": [
        "reason for conducting imputation: I think the sample to feature ratio is too low if simply remove samples with missing data values. This is commonlu done in genetic studies such as gwas and genomic selections to increase the power"
      ],
      "metadata": {
        "id": "t93Jz_-ZSXP7"
      }
    },
    {
      "cell_type": "code",
      "source": [
        "import sklearn.neighbors._base \n",
        "import sys\n",
        "sys.modules['sklearn.neighbors.base'] = sklearn.neighbors._base\n",
        "from missingpy import MissForest\n",
        "\n",
        "# Make an instance and perform the imputation\n",
        "imputer = MissForest()\n",
        "X = df_clinicalfeatures_cat\n",
        "X_imputed = imputer.fit_transform(X)"
      ],
      "metadata": {
        "id": "J4Qt9vPoPjc4",
        "colab": {
          "base_uri": "https://localhost:8080/"
        },
        "outputId": "2c4b53d5-a21f-4001-8094-f15e18f7c725"
      },
      "execution_count": 238,
      "outputs": [
        {
          "output_type": "stream",
          "name": "stderr",
          "text": [
            "/usr/local/lib/python3.7/dist-packages/sklearn/ensemble/_forest.py:400: FutureWarning: Criterion 'mse' was deprecated in v1.0 and will be removed in version 1.2. Use `criterion='squared_error'` which is equivalent.\n",
            "  FutureWarning,\n",
            "/usr/local/lib/python3.7/dist-packages/sklearn/ensemble/_forest.py:400: FutureWarning: Criterion 'mse' was deprecated in v1.0 and will be removed in version 1.2. Use `criterion='squared_error'` which is equivalent.\n",
            "  FutureWarning,\n",
            "/usr/local/lib/python3.7/dist-packages/sklearn/ensemble/_forest.py:400: FutureWarning: Criterion 'mse' was deprecated in v1.0 and will be removed in version 1.2. Use `criterion='squared_error'` which is equivalent.\n",
            "  FutureWarning,\n"
          ]
        },
        {
          "output_type": "stream",
          "name": "stdout",
          "text": [
            "Iteration: 0\n"
          ]
        },
        {
          "output_type": "stream",
          "name": "stderr",
          "text": [
            "/usr/local/lib/python3.7/dist-packages/sklearn/ensemble/_forest.py:400: FutureWarning: Criterion 'mse' was deprecated in v1.0 and will be removed in version 1.2. Use `criterion='squared_error'` which is equivalent.\n",
            "  FutureWarning,\n",
            "/usr/local/lib/python3.7/dist-packages/sklearn/ensemble/_forest.py:400: FutureWarning: Criterion 'mse' was deprecated in v1.0 and will be removed in version 1.2. Use `criterion='squared_error'` which is equivalent.\n",
            "  FutureWarning,\n",
            "/usr/local/lib/python3.7/dist-packages/sklearn/ensemble/_forest.py:400: FutureWarning: Criterion 'mse' was deprecated in v1.0 and will be removed in version 1.2. Use `criterion='squared_error'` which is equivalent.\n",
            "  FutureWarning,\n"
          ]
        },
        {
          "output_type": "stream",
          "name": "stdout",
          "text": [
            "Iteration: 1\n"
          ]
        },
        {
          "output_type": "stream",
          "name": "stderr",
          "text": [
            "/usr/local/lib/python3.7/dist-packages/sklearn/ensemble/_forest.py:400: FutureWarning: Criterion 'mse' was deprecated in v1.0 and will be removed in version 1.2. Use `criterion='squared_error'` which is equivalent.\n",
            "  FutureWarning,\n",
            "/usr/local/lib/python3.7/dist-packages/sklearn/ensemble/_forest.py:400: FutureWarning: Criterion 'mse' was deprecated in v1.0 and will be removed in version 1.2. Use `criterion='squared_error'` which is equivalent.\n",
            "  FutureWarning,\n",
            "/usr/local/lib/python3.7/dist-packages/sklearn/ensemble/_forest.py:400: FutureWarning: Criterion 'mse' was deprecated in v1.0 and will be removed in version 1.2. Use `criterion='squared_error'` which is equivalent.\n",
            "  FutureWarning,\n"
          ]
        },
        {
          "output_type": "stream",
          "name": "stdout",
          "text": [
            "Iteration: 2\n"
          ]
        }
      ]
    },
    {
      "cell_type": "code",
      "source": [
        "df_clinicalfeatures_imputed = pd.DataFrame(X_imputed, columns = df_clinicalfeatures_cat.columns)"
      ],
      "metadata": {
        "id": "iq4A5cBjqBdj"
      },
      "execution_count": 243,
      "outputs": []
    },
    {
      "cell_type": "code",
      "source": [
        "df_clinicalfeatures_imputed.info()"
      ],
      "metadata": {
        "id": "PYqhxjr5X8kC"
      },
      "execution_count": null,
      "outputs": []
    },
    {
      "cell_type": "markdown",
      "source": [
        "build model: Mixed effects logistic regression vs support vector machine (svm)"
      ],
      "metadata": {
        "id": "NYnpWx6-4STH"
      }
    },
    {
      "cell_type": "code",
      "source": [
        "X = df_clinicalfeatures_imputed.drop(columns=['overall_survival'])\n",
        "y = df_clinicalfeatures_imputed['overall_survival']\n",
        "\n",
        "# In the first step we will split the data in training and remaining dataset\n",
        "X_train, X_rem, y_train, y_rem = train_test_split(X,y, train_size=0.8)\n",
        "\n",
        "# Now since we want the valid and test size to be equal (10% each of overall data). \n",
        "# we have to define valid_size=0.5 (that is 50% of remaining data)\n",
        "test_size = 0.5\n",
        "X_valid, X_test, y_valid, y_test = train_test_split(X_rem,y_rem, test_size=0.5)"
      ],
      "metadata": {
        "id": "4jOwNmf-22hs"
      },
      "execution_count": 245,
      "outputs": []
    },
    {
      "cell_type": "code",
      "source": [
        "print(X_train.shape)\n",
        "print(X_valid.shape)\n",
        "print(X_test.shape)\n",
        "print(y_train.shape)\n",
        "print(y_valid.shape)\n",
        "print(y_test.shape)"
      ],
      "metadata": {
        "colab": {
          "base_uri": "https://localhost:8080/"
        },
        "id": "jMck-tAlUUVW",
        "outputId": "a33c6826-7f6e-4737-d1d9-aeadd409da40"
      },
      "execution_count": 246,
      "outputs": [
        {
          "output_type": "stream",
          "name": "stdout",
          "text": [
            "(1522, 56)\n",
            "(190, 56)\n",
            "(191, 56)\n",
            "(1522,)\n",
            "(190,)\n",
            "(191,)\n"
          ]
        }
      ]
    },
    {
      "cell_type": "code",
      "source": [
        "from sklearn.linear_model import LogisticRegression\n",
        "\n",
        "# instantiate the model (using the default parameters)\n",
        "logreg = LogisticRegression(max_iter = 1000)\n",
        "\n",
        "# fit the model with data\n",
        "logreg.fit(X_train, y_train)\n",
        "\n",
        "y_pred = logreg.predict(X_test)"
      ],
      "metadata": {
        "colab": {
          "base_uri": "https://localhost:8080/"
        },
        "id": "8RUEbYA5TETK",
        "outputId": "39f85617-6bbe-409e-b6c2-0343037181f5"
      },
      "execution_count": 248,
      "outputs": [
        {
          "output_type": "stream",
          "name": "stderr",
          "text": [
            "/usr/local/lib/python3.7/dist-packages/sklearn/linear_model/_logistic.py:818: ConvergenceWarning: lbfgs failed to converge (status=1):\n",
            "STOP: TOTAL NO. of ITERATIONS REACHED LIMIT.\n",
            "\n",
            "Increase the number of iterations (max_iter) or scale the data as shown in:\n",
            "    https://scikit-learn.org/stable/modules/preprocessing.html\n",
            "Please also refer to the documentation for alternative solver options:\n",
            "    https://scikit-learn.org/stable/modules/linear_model.html#logistic-regression\n",
            "  extra_warning_msg=_LOGISTIC_SOLVER_CONVERGENCE_MSG,\n"
          ]
        }
      ]
    },
    {
      "cell_type": "code",
      "source": [
        "from sklearn.metrics import classification_report\n",
        "target_names = ['death', 'survival']\n",
        "print(classification_report(y_test, y_pred, target_names=target_names))"
      ],
      "metadata": {
        "colab": {
          "base_uri": "https://localhost:8080/"
        },
        "id": "yEKKtWXsUGdA",
        "outputId": "19255dd9-7534-416e-8049-4cce16749fd0"
      },
      "execution_count": 250,
      "outputs": [
        {
          "output_type": "stream",
          "name": "stdout",
          "text": [
            "              precision    recall  f1-score   support\n",
            "\n",
            "       death       0.68      0.70      0.69       108\n",
            "    survival       0.60      0.58      0.59        83\n",
            "\n",
            "    accuracy                           0.65       191\n",
            "   macro avg       0.64      0.64      0.64       191\n",
            "weighted avg       0.65      0.65      0.65       191\n",
            "\n"
          ]
        }
      ]
    },
    {
      "cell_type": "markdown",
      "source": [
        "model with svm"
      ],
      "metadata": {
        "id": "ACQkQ9DedAJU"
      }
    },
    {
      "cell_type": "code",
      "source": [
        "from sklearn.svm import SVC\n",
        "svclassifier = SVC(kernel='rbf')\n",
        "svclassifier.fit(X_train, y_train)"
      ],
      "metadata": {
        "colab": {
          "base_uri": "https://localhost:8080/"
        },
        "id": "8nsk9pAddDI2",
        "outputId": "9fc60b5b-86a2-4b65-dcc3-32d74ce451be"
      },
      "execution_count": 266,
      "outputs": [
        {
          "output_type": "execute_result",
          "data": {
            "text/plain": [
              "SVC()"
            ]
          },
          "metadata": {},
          "execution_count": 266
        }
      ]
    },
    {
      "cell_type": "code",
      "source": [
        "from sklearn.metrics import classification_report\n",
        "y_pred = svclassifier.predict(X_test)\n",
        "target_names = ['death', 'survival']\n",
        "print(classification_report(y_test, y_pred, target_names=target_names))"
      ],
      "metadata": {
        "colab": {
          "base_uri": "https://localhost:8080/"
        },
        "id": "x0ck31PfdP9a",
        "outputId": "138d6332-f63e-46f7-9cdc-76cf72be993e"
      },
      "execution_count": 268,
      "outputs": [
        {
          "output_type": "stream",
          "name": "stdout",
          "text": [
            "              precision    recall  f1-score   support\n",
            "\n",
            "       death       0.72      0.71      0.72       108\n",
            "    survival       0.63      0.64      0.63        83\n",
            "\n",
            "    accuracy                           0.68       191\n",
            "   macro avg       0.68      0.68      0.68       191\n",
            "weighted avg       0.68      0.68      0.68       191\n",
            "\n"
          ]
        }
      ]
    },
    {
      "cell_type": "code",
      "source": [
        "lr_probs = logreg.predict_proba(X_test)\n",
        "ns_probs = [0 for _ in range(len(y_test))]\n",
        "svm_pred = svclassifier.predict(X_test)\n",
        "# keep probabilities for the positive outcome only\n",
        "lr_probs = lr_probs[:, 1]\n",
        "# calculate scores\n",
        "#one-class SVM doesn't produce probability estimates for roc curves\n",
        "ns_auc = roc_auc_score(y_test, ns_probs)\n",
        "lr_auc = roc_auc_score(y_test, lr_probs)\n",
        "# summarize scores\n",
        "print('No Skill: ROC AUC=%.3f' % (ns_auc))\n",
        "print('Logistic: ROC AUC=%.3f' % (lr_auc))\n",
        "# calculate roc curves\n",
        "ns_fpr, ns_tpr, _ = roc_curve(y_test, ns_probs)\n",
        "lr_fpr, lr_tpr, _ = roc_curve(y_test, lr_probs)\n",
        "svm_fpr, svm_tpr, _ = roc_curve(y_test, svm_pred)\n",
        "\n",
        "\n",
        "# plot the roc curve for the model\n",
        "plt.plot(ns_fpr, ns_tpr, linestyle='--', label='No Skill')\n",
        "plt.plot(lr_fpr, lr_tpr, marker='.', label='Logistic')\n",
        "plt.plot(svm_fpr, svm_tpr, marker='_', label='svm')\n",
        "\n",
        "\n",
        "# axis labels\n",
        "plt.xlabel('False Positive Rate')\n",
        "plt.ylabel('True Positive Rate')\n",
        "# show the legend\n",
        "plt.legend()\n",
        "# show the plot\n",
        "plt.show()"
      ],
      "metadata": {
        "colab": {
          "base_uri": "https://localhost:8080/",
          "height": 314
        },
        "id": "RgMIXALzbK1f",
        "outputId": "77b2718c-e457-44ed-91c4-047cd879f00b"
      },
      "execution_count": 276,
      "outputs": [
        {
          "output_type": "stream",
          "name": "stdout",
          "text": [
            "No Skill: ROC AUC=0.500\n",
            "Logistic: ROC AUC=0.727\n"
          ]
        },
        {
          "output_type": "display_data",
          "data": {
            "text/plain": [
              "<Figure size 432x288 with 1 Axes>"
            ],
            "image/png": "[encoded data removed]"
          },
          "metadata": {
            "needs_background": "light"
          }
        }
      ]
    },
    {
      "cell_type": "markdown",
      "source": [
        "conclusion: the logistic regression outperformed the svm and baseline method."
      ],
      "metadata": {
        "id": "zc5jvk1YlajZ"
      }
    },
    {
      "cell_type": "markdown",
      "source": [
        "extract feature importance in logistic regression prediction"
      ],
      "metadata": {
        "id": "AYpQR4xLkG1Y"
      }
    },
    {
      "cell_type": "code",
      "source": [
        "importance = logreg.coef_[0]\n",
        "features = X.columns.values.tolist()\n",
        "# summarize feature importance\n",
        "for i,v in enumerate(importance):\n",
        "\tprint('Feature: %s, Score: %.5f' % (features[i],v))"
      ],
      "metadata": {
        "colab": {
          "base_uri": "https://localhost:8080/"
        },
        "id": "ywN3zsBiVLpY",
        "outputId": "746e0cbe-ea28-45aa-e84d-75d32eba59fe"
      },
      "execution_count": 255,
      "outputs": [
        {
          "output_type": "stream",
          "name": "stdout",
          "text": [
            "Feature: age_at_diagnosis, Score: -0.07328\n",
            "Feature: chemotherapy, Score: 0.06253\n",
            "Feature: neoplasm_histologic_grade, Score: 0.08269\n",
            "Feature: hormone_therapy, Score: 0.43813\n",
            "Feature: lymph_nodes_examined_positive, Score: -0.07029\n",
            "Feature: mutation_count, Score: -0.02730\n",
            "Feature: nottingham_prognostic_index, Score: -0.18213\n",
            "Feature: radio_therapy, Score: 0.27550\n",
            "Feature: tumor_size, Score: -0.01198\n",
            "Feature: type_of_breast_surgery_BREAST CONSERVING, Score: 0.36704\n",
            "Feature: type_of_breast_surgery_MASTECTOMY, Score: -0.03469\n",
            "Feature: cancer_type_detailed_Breast, Score: 0.71390\n",
            "Feature: cancer_type_detailed_Breast Invasive Ductal Carcinoma, Score: 0.01533\n",
            "Feature: cancer_type_detailed_Breast Invasive Lobular Carcinoma, Score: -0.10454\n",
            "Feature: cancer_type_detailed_Breast Invasive Mixed Mucinous Carcinoma, Score: 0.07768\n",
            "Feature: cancer_type_detailed_Breast Mixed Ductal and Lobular Carcinoma, Score: -0.20327\n",
            "Feature: cancer_type_detailed_Metaplastic Breast Cancer, Score: -0.58261\n",
            "Feature: cellularity_High, Score: 0.08559\n",
            "Feature: cellularity_Low, Score: 0.06685\n",
            "Feature: cellularity_Moderate, Score: -0.09896\n",
            "Feature: pam50_+_claudin-low_subtype_Basal, Score: -0.06029\n",
            "Feature: pam50_+_claudin-low_subtype_Her2, Score: -0.16064\n",
            "Feature: pam50_+_claudin-low_subtype_LumA, Score: 0.26577\n",
            "Feature: pam50_+_claudin-low_subtype_LumB, Score: -0.05786\n",
            "Feature: pam50_+_claudin-low_subtype_NC, Score: -0.26312\n",
            "Feature: pam50_+_claudin-low_subtype_Normal, Score: -0.00405\n",
            "Feature: pam50_+_claudin-low_subtype_claudin-low, Score: 0.27172\n",
            "Feature: er_status_Negative, Score: -0.08979\n",
            "Feature: er_status_Positive, Score: 0.08132\n",
            "Feature: her2_status_Negative, Score: -0.34133\n",
            "Feature: her2_status_Positive, Score: 0.33286\n",
            "Feature: tumor_other_histologic_subtype_Ductal/NST, Score: -0.22214\n",
            "Feature: tumor_other_histologic_subtype_Lobular, Score: -0.10454\n",
            "Feature: tumor_other_histologic_subtype_Medullary, Score: -0.06696\n",
            "Feature: tumor_other_histologic_subtype_Metaplastic, Score: -0.58261\n",
            "Feature: tumor_other_histologic_subtype_Mixed, Score: -0.20327\n",
            "Feature: tumor_other_histologic_subtype_Mucinous, Score: 0.07768\n",
            "Feature: tumor_other_histologic_subtype_Other, Score: 0.71390\n",
            "Feature: tumor_other_histologic_subtype_Tubular/ cribriform, Score: 0.30443\n",
            "Feature: inferred_menopausal_state_Post, Score: 0.36982\n",
            "Feature: inferred_menopausal_state_Pre, Score: -0.37829\n",
            "Feature: integrative_cluster_1, Score: -0.10511\n",
            "Feature: integrative_cluster_10, Score: 0.47002\n",
            "Feature: integrative_cluster_2, Score: -0.30639\n",
            "Feature: integrative_cluster_3, Score: 0.18632\n",
            "Feature: integrative_cluster_4ER+, Score: 0.32496\n",
            "Feature: integrative_cluster_4ER-, Score: 0.20777\n",
            "Feature: integrative_cluster_5, Score: -0.60682\n",
            "Feature: integrative_cluster_6, Score: -0.28410\n",
            "Feature: integrative_cluster_7, Score: 0.16927\n",
            "Feature: integrative_cluster_8, Score: 0.01642\n",
            "Feature: integrative_cluster_9, Score: -0.08082\n",
            "Feature: primary_tumor_laterality_Left, Score: 0.38682\n",
            "Feature: primary_tumor_laterality_Right, Score: 0.62781\n",
            "Feature: pr_status_Negative, Score: 0.04453\n",
            "Feature: pr_status_Positive, Score: -0.05300\n"
          ]
        }
      ]
    }
  ]
}